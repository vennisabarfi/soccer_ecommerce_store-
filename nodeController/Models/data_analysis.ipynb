{
 "cells": [
  {
   "cell_type": "code",
   "execution_count": 1,
   "metadata": {},
   "outputs": [],
   "source": [
    "# import necessary packages\n",
    "import pandas as pd"
   ]
  },
  {
   "cell_type": "code",
   "execution_count": 2,
   "metadata": {},
   "outputs": [],
   "source": [
    "from dotenv import load_dotenv\n",
    "import os"
   ]
  },
  {
   "cell_type": "code",
   "execution_count": 6,
   "metadata": {},
   "outputs": [
    {
     "name": "stdout",
     "output_type": "stream",
     "text": [
      "C:/Users/veyhn/PycharmProjects/HelloWorld/soccer_ecommerce/backend/nodeController\n"
     ]
    }
   ],
   "source": [
    "\n",
    "# Get the current working directory of the Jupyter notebook session\n",
    "current_directory = %pwd\n",
    "\n",
    "# Replace backslashes with forwards lashes to work with Pandas\n",
    "current_directory = current_directory.replace('\\\\', '/')\n",
    "\n",
    "print(current_directory)  # Verify the formatted path"
   ]
  },
  {
   "cell_type": "code",
   "execution_count": 7,
   "metadata": {},
   "outputs": [],
   "source": [
    "# load datasets\n",
    "file_path = f\"{current_directory}/Models/\"\n",
    "boots_data = pd.read_csv(f\"{file_path}footballbootsdb.csv\")"
   ]
  },
  {
   "cell_type": "code",
   "execution_count": 8,
   "metadata": {},
   "outputs": [
    {
     "data": {
      "text/html": [
       "<div>\n",
       "<style scoped>\n",
       "    .dataframe tbody tr th:only-of-type {\n",
       "        vertical-align: middle;\n",
       "    }\n",
       "\n",
       "    .dataframe tbody tr th {\n",
       "        vertical-align: top;\n",
       "    }\n",
       "\n",
       "    .dataframe thead th {\n",
       "        text-align: right;\n",
       "    }\n",
       "</style>\n",
       "<table border=\"1\" class=\"dataframe\">\n",
       "  <thead>\n",
       "    <tr style=\"text-align: right;\">\n",
       "      <th></th>\n",
       "      <th>BootsName</th>\n",
       "      <th>BootsMaterial</th>\n",
       "      <th>BootsBrand</th>\n",
       "      <th>BootsType</th>\n",
       "      <th>BootsPosition</th>\n",
       "    </tr>\n",
       "  </thead>\n",
       "  <tbody>\n",
       "    <tr>\n",
       "      <th>0</th>\n",
       "      <td>X Speedportal+</td>\n",
       "      <td>Speedskin</td>\n",
       "      <td>adidas</td>\n",
       "      <td>Speed</td>\n",
       "      <td>Attack</td>\n",
       "    </tr>\n",
       "    <tr>\n",
       "      <th>1</th>\n",
       "      <td>X Speedportal+</td>\n",
       "      <td>Speedskin</td>\n",
       "      <td>adidas</td>\n",
       "      <td>Speed</td>\n",
       "      <td>Attack</td>\n",
       "    </tr>\n",
       "    <tr>\n",
       "      <th>2</th>\n",
       "      <td>F50 Adizero</td>\n",
       "      <td>Synthetic</td>\n",
       "      <td>adidas</td>\n",
       "      <td>Speed</td>\n",
       "      <td>Attack</td>\n",
       "    </tr>\n",
       "    <tr>\n",
       "      <th>3</th>\n",
       "      <td>X Speedportal.1</td>\n",
       "      <td>Speedskin</td>\n",
       "      <td>adidas</td>\n",
       "      <td>Speed</td>\n",
       "      <td>Attack</td>\n",
       "    </tr>\n",
       "    <tr>\n",
       "      <th>4</th>\n",
       "      <td>Predator Accuracy.1 Low</td>\n",
       "      <td>Primeknit</td>\n",
       "      <td>adidas</td>\n",
       "      <td>Control</td>\n",
       "      <td>Midfield</td>\n",
       "    </tr>\n",
       "    <tr>\n",
       "      <th>5</th>\n",
       "      <td>X Speedportal+</td>\n",
       "      <td>Speedskin</td>\n",
       "      <td>adidas</td>\n",
       "      <td>Speed</td>\n",
       "      <td>Attack</td>\n",
       "    </tr>\n",
       "    <tr>\n",
       "      <th>6</th>\n",
       "      <td>X Speedportal+</td>\n",
       "      <td>Speedskin</td>\n",
       "      <td>adidas</td>\n",
       "      <td>Speed</td>\n",
       "      <td>Attack</td>\n",
       "    </tr>\n",
       "    <tr>\n",
       "      <th>7</th>\n",
       "      <td>X Speedportal.1</td>\n",
       "      <td>Speedskin</td>\n",
       "      <td>adidas</td>\n",
       "      <td>Speed</td>\n",
       "      <td>Attack</td>\n",
       "    </tr>\n",
       "    <tr>\n",
       "      <th>8</th>\n",
       "      <td>X Speedportal+</td>\n",
       "      <td>Speedskin</td>\n",
       "      <td>adidas</td>\n",
       "      <td>Speed</td>\n",
       "      <td>Attack</td>\n",
       "    </tr>\n",
       "    <tr>\n",
       "      <th>9</th>\n",
       "      <td>Predator Accuracy.1 Low</td>\n",
       "      <td>Primeknit</td>\n",
       "      <td>adidas</td>\n",
       "      <td>Control</td>\n",
       "      <td>Midfield</td>\n",
       "    </tr>\n",
       "  </tbody>\n",
       "</table>\n",
       "</div>"
      ],
      "text/plain": [
       "                 BootsName BootsMaterial BootsBrand BootsType BootsPosition\n",
       "0           X Speedportal+     Speedskin     adidas     Speed        Attack\n",
       "1           X Speedportal+     Speedskin     adidas     Speed        Attack\n",
       "2              F50 Adizero     Synthetic     adidas     Speed        Attack\n",
       "3          X Speedportal.1     Speedskin     adidas     Speed        Attack\n",
       "4  Predator Accuracy.1 Low     Primeknit     adidas   Control      Midfield\n",
       "5           X Speedportal+     Speedskin     adidas     Speed        Attack\n",
       "6           X Speedportal+     Speedskin     adidas     Speed        Attack\n",
       "7          X Speedportal.1     Speedskin     adidas     Speed        Attack\n",
       "8           X Speedportal+     Speedskin     adidas     Speed        Attack\n",
       "9  Predator Accuracy.1 Low     Primeknit     adidas   Control      Midfield"
      ]
     },
     "execution_count": 8,
     "metadata": {},
     "output_type": "execute_result"
    }
   ],
   "source": [
    "# keep only these columns\n",
    "boots = boots_data[['BootsName', 'BootsMaterial','BootsBrand', 'BootsType', 'BootsPosition']]\n",
    "boots.head(10)\n",
    "\n"
   ]
  },
  {
   "cell_type": "code",
   "execution_count": 9,
   "metadata": {},
   "outputs": [],
   "source": [
    "# write dataframe to csv\n",
    "import os\n",
    "os.makedirs(file_path, exist_ok=True) \n",
    "boots.to_csv(f'{file_path}boots.csv', index=False)"
   ]
  },
  {
   "cell_type": "code",
   "execution_count": null,
   "metadata": {},
   "outputs": [],
   "source": []
  },
  {
   "cell_type": "code",
   "execution_count": null,
   "metadata": {},
   "outputs": [],
   "source": []
  }
 ],
 "metadata": {
  "kernelspec": {
   "display_name": "Python 3 (ipykernel)",
   "language": "python",
   "name": "python3"
  },
  "language_info": {
   "codemirror_mode": {
    "name": "ipython",
    "version": 3
   },
   "file_extension": ".py",
   "mimetype": "text/x-python",
   "name": "python",
   "nbconvert_exporter": "python",
   "pygments_lexer": "ipython3",
   "version": "3.12.3"
  }
 },
 "nbformat": 4,
 "nbformat_minor": 2
}
